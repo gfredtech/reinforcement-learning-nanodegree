{
 "cells": [
  {
   "cell_type": "markdown",
   "metadata": {},
   "source": [
    "# Continuous Control\n",
    "\n",
    "---\n",
    "\n",
    "You are welcome to use this coding environment to train your agent for the project.  Follow the instructions below to get started!\n",
    "\n",
    "### 1. Start the Environment\n",
    "\n",
    "Run the next code cell to install a few packages.  This line will take a few minutes to run!"
   ]
  },
  {
   "cell_type": "code",
   "execution_count": 1,
   "metadata": {},
   "outputs": [
    {
     "name": "stdout",
     "output_type": "stream",
     "text": [
      "\u001b[31mtensorflow 1.7.1 has requirement numpy>=1.13.3, but you'll have numpy 1.12.1 which is incompatible.\u001b[0m\r\n",
      "\u001b[31mipython 6.5.0 has requirement prompt-toolkit<2.0.0,>=1.0.15, but you'll have prompt-toolkit 2.0.10 which is incompatible.\u001b[0m\r\n"
     ]
    }
   ],
   "source": [
    "!pip -q install ./python"
   ]
  },
  {
   "cell_type": "markdown",
   "metadata": {},
   "source": [
    "The environments corresponding to both versions of the environment are already saved in the Workspace and can be accessed at the file paths provided below.  \n",
    "\n",
    "Please select one of the two options below for loading the environment."
   ]
  },
  {
   "cell_type": "code",
   "execution_count": 2,
   "metadata": {},
   "outputs": [
    {
     "name": "stderr",
     "output_type": "stream",
     "text": [
      "INFO:unityagents:\n",
      "'Academy' started successfully!\n",
      "Unity Academy name: Academy\n",
      "        Number of Brains: 1\n",
      "        Number of External Brains : 1\n",
      "        Lesson number : 0\n",
      "        Reset Parameters :\n",
      "\t\tgoal_speed -> 1.0\n",
      "\t\tgoal_size -> 5.0\n",
      "Unity brain name: ReacherBrain\n",
      "        Number of Visual Observations (per agent): 0\n",
      "        Vector Observation space type: continuous\n",
      "        Vector Observation space size (per agent): 33\n",
      "        Number of stacked Vector Observation: 1\n",
      "        Vector Action space type: continuous\n",
      "        Vector Action space size (per agent): 4\n",
      "        Vector Action descriptions: , , , \n"
     ]
    }
   ],
   "source": [
    "from unityagents import UnityEnvironment\n",
    "import numpy as np\n",
    "\n",
    "# select this option to load version 1 (with a single agent) of the environment\n",
    "# env = UnityEnvironment(file_name='/data/Reacher_One_Linux_NoVis/Reacher_One_Linux_NoVis.x86_64')\n",
    "\n",
    "# select this option to load version 2 (with 20 agents) of the environment\n",
    "env = UnityEnvironment(file_name='/data/Reacher_Linux_NoVis/Reacher.x86_64')"
   ]
  },
  {
   "cell_type": "markdown",
   "metadata": {},
   "source": [
    "Environments contain **_brains_** which are responsible for deciding the actions of their associated agents. Here we check for the first brain available, and set it as the default brain we will be controlling from Python."
   ]
  },
  {
   "cell_type": "code",
   "execution_count": 3,
   "metadata": {},
   "outputs": [],
   "source": [
    "# get the default brain\n",
    "brain_name = env.brain_names[0]\n",
    "brain = env.brains[brain_name]"
   ]
  },
  {
   "cell_type": "markdown",
   "metadata": {},
   "source": [
    "### 2. Examine the State and Action Spaces\n",
    "\n",
    "Run the code cell below to print some information about the environment."
   ]
  },
  {
   "cell_type": "code",
   "execution_count": 4,
   "metadata": {},
   "outputs": [
    {
     "name": "stdout",
     "output_type": "stream",
     "text": [
      "Number of agents: 20\n",
      "Size of each action: 4\n",
      "There are 20 agents. Each observes a state with length: 33\n",
      "The state for the first agent looks like: [  0.00000000e+00  -4.00000000e+00   0.00000000e+00   1.00000000e+00\n",
      "  -0.00000000e+00  -0.00000000e+00  -4.37113883e-08   0.00000000e+00\n",
      "   0.00000000e+00   0.00000000e+00   0.00000000e+00   0.00000000e+00\n",
      "   0.00000000e+00   0.00000000e+00  -1.00000000e+01   0.00000000e+00\n",
      "   1.00000000e+00  -0.00000000e+00  -0.00000000e+00  -4.37113883e-08\n",
      "   0.00000000e+00   0.00000000e+00   0.00000000e+00   0.00000000e+00\n",
      "   0.00000000e+00   0.00000000e+00   5.75471878e+00  -1.00000000e+00\n",
      "   5.55726624e+00   0.00000000e+00   1.00000000e+00   0.00000000e+00\n",
      "  -1.68164849e-01]\n"
     ]
    }
   ],
   "source": [
    "# reset the environment\n",
    "env_info = env.reset(train_mode=True)[brain_name]\n",
    "\n",
    "# number of agents\n",
    "num_agents = len(env_info.agents)\n",
    "print('Number of agents:', num_agents)\n",
    "\n",
    "# size of each action\n",
    "action_size = brain.vector_action_space_size\n",
    "print('Size of each action:', action_size)\n",
    "\n",
    "# examine the state space \n",
    "states = env_info.vector_observations\n",
    "state_size = states.shape[1]\n",
    "print('There are {} agents. Each observes a state with length: {}'.format(states.shape[0], state_size))\n",
    "print('The state for the first agent looks like:', states[0])"
   ]
  },
  {
   "cell_type": "markdown",
   "metadata": {},
   "source": [
    "### 3. Train agent\n",
    "\n",
    "Training of continuous control agent follows in the next few cells. We should set `train_mode=True` to restart the environment."
   ]
  },
  {
   "cell_type": "code",
   "execution_count": 5,
   "metadata": {},
   "outputs": [],
   "source": [
    "from collections import deque\n",
    "import matplotlib.pyplot as plt\n",
    "from agent import Agent\n",
    "import torch\n",
    "\n",
    "%matplotlib inline"
   ]
  },
  {
   "cell_type": "code",
   "execution_count": null,
   "metadata": {
    "scrolled": false
   },
   "outputs": [
    {
     "name": "stdout",
     "output_type": "stream",
     "text": [
      "Initialising ReplayBuffer\n",
      "Episode 1\tScore: 0.43\tAverage Score: 0.43\n",
      "Episode 2\tScore: 0.80\tAverage Score: 0.62\n",
      "Episode 3\tScore: 1.87\tAverage Score: 1.03\n",
      "Episode 4\tScore: 2.42\tAverage Score: 1.38\n",
      "Episode 5\tScore: 2.08\tAverage Score: 1.52\n",
      "Episode 6\tScore: 2.84\tAverage Score: 1.74\n",
      "Episode 7\tScore: 4.19\tAverage Score: 2.09\n",
      "Episode 8\tScore: 5.02\tAverage Score: 2.46\n",
      "Episode 9\tScore: 5.46\tAverage Score: 2.79\n",
      "Episode 10\tScore: 6.21\tAverage Score: 3.13\n",
      "Episode 11\tScore: 7.22\tAverage Score: 3.50\n",
      "Episode 12\tScore: 6.21\tAverage Score: 3.73\n",
      "Episode 13\tScore: 6.67\tAverage Score: 3.96\n",
      "Episode 14\tScore: 9.43\tAverage Score: 4.35\n",
      "Episode 15\tScore: 9.78\tAverage Score: 4.71\n",
      "Episode 16\tScore: 9.82\tAverage Score: 5.03\n",
      "Episode 17\tScore: 10.47\tAverage Score: 5.35\n",
      "Episode 18\tScore: 10.64\tAverage Score: 5.64\n",
      "Episode 19\tScore: 11.23\tAverage Score: 5.94\n",
      "Episode 20\tScore: 10.73\tAverage Score: 6.18\n",
      "Episode 21\tScore: 12.34\tAverage Score: 6.47\n",
      "Episode 22\tScore: 12.38\tAverage Score: 6.74\n",
      "Episode 23\tScore: 12.30\tAverage Score: 6.98\n",
      "Episode 24\tScore: 12.08\tAverage Score: 7.19\n",
      "Episode 25\tScore: 12.04\tAverage Score: 7.39\n",
      "Episode 26\tScore: 12.97\tAverage Score: 7.60\n",
      "Episode 27\tScore: 13.08\tAverage Score: 7.81\n",
      "Episode 28\tScore: 13.87\tAverage Score: 8.02\n",
      "Episode 29\tScore: 13.67\tAverage Score: 8.22\n",
      "Episode 30\tScore: 14.00\tAverage Score: 8.41\n",
      "Episode 31\tScore: 13.04\tAverage Score: 8.56\n",
      "Episode 32\tScore: 14.33\tAverage Score: 8.74\n",
      "Episode 33\tScore: 16.70\tAverage Score: 8.98\n",
      "Episode 34\tScore: 16.74\tAverage Score: 9.21\n",
      "Episode 35\tScore: 14.74\tAverage Score: 9.37\n",
      "Episode 36\tScore: 16.12\tAverage Score: 9.55\n",
      "Episode 37\tScore: 17.01\tAverage Score: 9.76\n",
      "Episode 38\tScore: 14.77\tAverage Score: 9.89\n",
      "Episode 39\tScore: 15.72\tAverage Score: 10.04\n",
      "Episode 40\tScore: 16.50\tAverage Score: 10.20\n",
      "Episode 41\tScore: 16.73\tAverage Score: 10.36\n",
      "Episode 42\tScore: 15.09\tAverage Score: 10.47\n",
      "Episode 43\tScore: 18.55\tAverage Score: 10.66\n",
      "Episode 44\tScore: 16.70\tAverage Score: 10.80\n",
      "Episode 45\tScore: 19.37\tAverage Score: 10.99\n",
      "Episode 46\tScore: 18.96\tAverage Score: 11.16\n",
      "Episode 47\tScore: 18.11\tAverage Score: 11.31\n",
      "Episode 48\tScore: 17.95\tAverage Score: 11.45\n",
      "Episode 49\tScore: 17.45\tAverage Score: 11.57\n",
      "Episode 50\tScore: 19.28\tAverage Score: 11.72\n",
      "Episode 51\tScore: 19.08\tAverage Score: 11.87\n",
      "Episode 52\tScore: 21.64\tAverage Score: 12.06\n",
      "Episode 53\tScore: 19.84\tAverage Score: 12.20\n",
      "Episode 54\tScore: 21.23\tAverage Score: 12.37\n",
      "Episode 55\tScore: 21.82\tAverage Score: 12.54\n",
      "Episode 56\tScore: 22.16\tAverage Score: 12.71\n",
      "Episode 57\tScore: 23.05\tAverage Score: 12.89\n",
      "Episode 58\tScore: 24.80\tAverage Score: 13.10\n",
      "Episode 59\tScore: 26.19\tAverage Score: 13.32\n",
      "Episode 60\tScore: 28.44\tAverage Score: 13.57\n",
      "Episode 61\tScore: 28.38\tAverage Score: 13.82\n",
      "Episode 62\tScore: 28.37\tAverage Score: 14.05\n",
      "Episode 63\tScore: 27.03\tAverage Score: 14.26\n",
      "Episode 64\tScore: 27.86\tAverage Score: 14.47\n",
      "Episode 65\tScore: 26.40\tAverage Score: 14.65\n",
      "Episode 66\tScore: 26.01\tAverage Score: 14.83\n",
      "Episode 67\tScore: 26.96\tAverage Score: 15.01\n",
      "Episode 68\tScore: 25.05\tAverage Score: 15.15\n",
      "Episode 69\tScore: 24.49\tAverage Score: 15.29\n",
      "Episode 70\tScore: 26.97\tAverage Score: 15.46\n",
      "Episode 71\tScore: 26.77\tAverage Score: 15.62\n",
      "Episode 72\tScore: 28.42\tAverage Score: 15.79\n",
      "Episode 73\tScore: 26.17\tAverage Score: 15.94\n",
      "Episode 74\tScore: 26.64\tAverage Score: 16.08\n",
      "Episode 75\tScore: 29.58\tAverage Score: 16.26\n",
      "Episode 76\tScore: 29.26\tAverage Score: 16.43\n",
      "Episode 77\tScore: 30.67\tAverage Score: 16.62\n",
      "Episode 78\tScore: 28.86\tAverage Score: 16.77\n",
      "Episode 79\tScore: 26.95\tAverage Score: 16.90\n",
      "Episode 80\tScore: 28.22\tAverage Score: 17.04\n",
      "Episode 81\tScore: 29.45\tAverage Score: 17.20\n",
      "Episode 82\tScore: 28.50\tAverage Score: 17.33\n",
      "Episode 83\tScore: 27.31\tAverage Score: 17.45\n",
      "Episode 84\tScore: 29.83\tAverage Score: 17.60\n",
      "Episode 85\tScore: 29.84\tAverage Score: 17.75\n",
      "Episode 86\tScore: 30.14\tAverage Score: 17.89\n",
      "Episode 87\tScore: 29.22\tAverage Score: 18.02\n",
      "Episode 88\tScore: 29.48\tAverage Score: 18.15\n",
      "Episode 89\tScore: 31.59\tAverage Score: 18.30\n",
      "Episode 90\tScore: 29.59\tAverage Score: 18.43\n",
      "Episode 91\tScore: 31.16\tAverage Score: 18.57\n",
      "Episode 92\tScore: 28.43\tAverage Score: 18.67\n",
      "Episode 93\tScore: 28.87\tAverage Score: 18.78\n",
      "Episode 94\tScore: 27.74\tAverage Score: 18.88\n",
      "Episode 95\tScore: 30.18\tAverage Score: 19.00\n",
      "Episode 96\tScore: 26.81\tAverage Score: 19.08\n",
      "Episode 97\tScore: 27.46\tAverage Score: 19.17\n",
      "Episode 98\tScore: 26.35\tAverage Score: 19.24\n",
      "Episode 99\tScore: 24.59\tAverage Score: 19.29\n",
      "Episode 100\tScore: 26.57\tAverage Score: 19.37\n",
      "Episode 100\tAverage Score: 19.37\n",
      "Episode 101\tScore: 26.84\tAverage Score: 19.63\n",
      "Episode 102\tScore: 29.17\tAverage Score: 19.91\n",
      "Episode 103\tScore: 27.39\tAverage Score: 20.17\n",
      "Episode 104\tScore: 27.62\tAverage Score: 20.42\n",
      "Episode 105\tScore: 29.80\tAverage Score: 20.70\n",
      "Episode 106\tScore: 29.58\tAverage Score: 20.97\n",
      "Episode 107\tScore: 31.48\tAverage Score: 21.24\n",
      "Episode 108\tScore: 30.31\tAverage Score: 21.49\n",
      "Episode 109\tScore: 28.97\tAverage Score: 21.73\n",
      "Episode 110\tScore: 29.97\tAverage Score: 21.96\n",
      "Episode 111\tScore: 29.93\tAverage Score: 22.19\n",
      "Episode 112\tScore: 28.64\tAverage Score: 22.42\n",
      "Episode 113\tScore: 30.29\tAverage Score: 22.65\n",
      "Episode 114\tScore: 31.34\tAverage Score: 22.87\n",
      "Episode 115\tScore: 29.91\tAverage Score: 23.07\n",
      "Episode 116\tScore: 30.47\tAverage Score: 23.28\n",
      "Episode 117\tScore: 28.33\tAverage Score: 23.46\n",
      "Episode 118\tScore: 30.31\tAverage Score: 23.65\n",
      "Episode 119\tScore: 29.99\tAverage Score: 23.84\n",
      "Episode 120\tScore: 30.80\tAverage Score: 24.04\n",
      "Episode 121\tScore: 32.57\tAverage Score: 24.24\n",
      "Episode 122\tScore: 30.64\tAverage Score: 24.43\n",
      "Episode 123\tScore: 31.06\tAverage Score: 24.61\n",
      "Episode 124\tScore: 30.93\tAverage Score: 24.80\n",
      "Episode 125\tScore: 29.56\tAverage Score: 24.98\n",
      "Episode 126\tScore: 30.20\tAverage Score: 25.15\n",
      "Episode 127\tScore: 29.98\tAverage Score: 25.32\n",
      "Episode 128\tScore: 29.20\tAverage Score: 25.47\n",
      "Episode 129\tScore: 29.60\tAverage Score: 25.63\n",
      "Episode 130\tScore: 27.89\tAverage Score: 25.77\n",
      "Episode 131\tScore: 30.33\tAverage Score: 25.94\n",
      "Episode 132\tScore: 32.43\tAverage Score: 26.12\n",
      "Episode 133\tScore: 31.21\tAverage Score: 26.27\n",
      "Episode 134\tScore: 30.47\tAverage Score: 26.41\n",
      "Episode 135\tScore: 30.22\tAverage Score: 26.56\n",
      "Episode 136\tScore: 31.82\tAverage Score: 26.72\n",
      "Episode 137\tScore: 29.78\tAverage Score: 26.85\n",
      "Episode 138\tScore: 28.47\tAverage Score: 26.98\n",
      "Episode 139\tScore: 29.83\tAverage Score: 27.12\n",
      "Episode 140\tScore: 29.89\tAverage Score: 27.26\n",
      "Episode 141\tScore: 28.36\tAverage Score: 27.37\n",
      "Episode 142\tScore: 28.25\tAverage Score: 27.51\n"
     ]
    }
   ],
   "source": [
    "def ddpg(n_episodes=300, max_t=1000):\n",
    "    \"\"\" Deep Deterministic Policy Gradients\n",
    "    ======\n",
    "        n_episodes (int): maximum number of training episodes\n",
    "        max_t (int): maximum number of timesteps per episode\n",
    "    \"\"\"\n",
    "    scores_window = deque(maxlen=100)\n",
    "    scores = np.zeros(num_agents)\n",
    "    scores_episode = []\n",
    "    \n",
    "    agents =[] \n",
    "    \n",
    "    for i in range(num_agents):\n",
    "        agents.append(Agent(state_size, action_size, random_seed=0))\n",
    "    \n",
    "    for i_episode in range(1, n_episodes+1):\n",
    "        env_info = env.reset(train_mode=True)[brain_name]\n",
    "        states = env_info.vector_observations\n",
    "        \n",
    "        for agent in agents:\n",
    "            agent.reset()\n",
    "            \n",
    "        scores = np.zeros(num_agents)\n",
    "            \n",
    "        for t in range(max_t):\n",
    "            actions = np.array([agents[i].act(states[i]) for i in range(num_agents)])\n",
    "            env_info = env.step(actions)[brain_name]    \n",
    "            next_states = env_info.vector_observations     \n",
    "            rewards = env_info.rewards \n",
    "            dones = env_info.local_done        \n",
    "            \n",
    "            for i in range(num_agents):\n",
    "                agents[i].step(t,states[i], actions[i], rewards[i], next_states[i], dones[i]) \n",
    " \n",
    "            states = next_states\n",
    "            scores += rewards\n",
    "            if np.any(dones):\n",
    "                break \n",
    "        score = np.mean(scores)\n",
    "        scores_window.append(score)       # save most recent score\n",
    "        scores_episode.append(score)\n",
    "\n",
    "        print('\\rEpisode {}\\tScore: {:.2f}\\tAverage Score: {:.2f}'.format(i_episode, score, np.mean(scores_window)))\n",
    "        if i_episode % 100 == 0:\n",
    "            print('\\rEpisode {}\\tAverage Score: {:.2f}'.format(i_episode, np.mean(scores_window)))\n",
    "        if np.mean(scores_window)>=30.0:\n",
    "            print('\\nEnvironment solved in {:d} episodes!\\tAverage Score: {:.2f}'.format(i_episode-100, np.mean(scores_window)))\n",
    "            torch.save(Agent.actor_local.state_dict(), 'model_actor.pth')\n",
    "            torch.save(Agent.critic_local.state_dict(), 'model_critic.pth')\n",
    "            break\n",
    "            \n",
    "    return scores_episode\n",
    "\n",
    "from workspace_utils import active_session\n",
    " \n",
    "with active_session():\n",
    "    # do long-running work here\n",
    "    scores = ddpg()"
   ]
  },
  {
   "cell_type": "code",
   "execution_count": null,
   "metadata": {},
   "outputs": [],
   "source": [
    "# plot the scores\n",
    "fig = plt.figure()\n",
    "ax = fig.add_subplot(111)\n",
    "plt.plot(np.arange(len(scores)), scores)\n",
    "plt.ylabel('Score')\n",
    "plt.xlabel('Episode #')\n",
    "plt.show()"
   ]
  },
  {
   "cell_type": "markdown",
   "metadata": {},
   "source": [
    "When finished, you can close the environment."
   ]
  },
  {
   "cell_type": "code",
   "execution_count": null,
   "metadata": {},
   "outputs": [],
   "source": [
    "env.close()"
   ]
  }
 ],
 "metadata": {
  "kernelspec": {
   "display_name": "Python 3",
   "language": "python",
   "name": "python3"
  },
  "language_info": {
   "codemirror_mode": {
    "name": "ipython",
    "version": 3
   },
   "file_extension": ".py",
   "mimetype": "text/x-python",
   "name": "python",
   "nbconvert_exporter": "python",
   "pygments_lexer": "ipython3",
   "version": "3.6.3"
  }
 },
 "nbformat": 4,
 "nbformat_minor": 2
}
